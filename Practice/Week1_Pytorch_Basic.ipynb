{
 "cells": [
  {
   "cell_type": "markdown",
   "id": "e35839a5-6ffb-458e-b849-187e06ceefe7",
   "metadata": {},
   "source": [
    "## Introduction to PyTorch\n",
    "\n",
    "### Overview\n",
    "\n",
    "PyTorch is an open-source machine learning library that provides a flexible and efficient platform for deep learning research. It is widely used in academia and industry due to its ease of use and strong GPU acceleration capabilities.\n",
    "\n",
    "PyTorch serves two primary purposes:\n",
    "- It functions **similarly to NumPy but with built-in GPU support** for accelerated computations.\n",
    "- It provides an **intuitive framework for building and training deep neural networks**.\n",
    "\n",
    "PyTorch’s **dynamic computation graph** and **autograd engine** make it particularly suitable for deep learning applications, including natural language processing (NLP), computer vision, and solving partial differential equations (PDEs).\n"
   ]
  },
  {
   "cell_type": "markdown",
   "id": "f69c4af1-f993-4538-b821-804b454d1c28",
   "metadata": {},
   "source": [
    "### (1) Installing PyTorch\n",
    "\n",
    "Before installing PyTorch, ensure that Anaconda is installed, as it provides an easy environment for managing dependencies.\n",
    "\n",
    "**Installation via pip:** Run the following command to install PyTorch and its dependencies:\n",
    "```python\n",
    "pip3 install torch torchvision torchaudio\n",
    "```\n",
    "\n",
    "Alternatively, refer to the **official installation guide** for the latest installation instructions and CUDA compatibility: [PyTorch Installation Guide](https://pytorch.org/get-started/locally/)"
   ]
  },
  {
   "cell_type": "markdown",
   "id": "2bea418c-d0f5-415a-8820-0e0430264bdf",
   "metadata": {},
   "source": [
    "Checking if Pytorch is successfully installed"
   ]
  },
  {
   "cell_type": "code",
   "execution_count": 1,
   "id": "6f8a3272-1c96-438b-bc89-58699ea33c34",
   "metadata": {},
   "outputs": [
    {
     "name": "stdout",
     "output_type": "stream",
     "text": [
      "2.2.0\n"
     ]
    }
   ],
   "source": [
    "import torch # if this gives \"ModuleNotFoundError: No module named 'torch'\", then your pytorch installation is not complete\n",
    "print(torch.__version__)"
   ]
  },
  {
   "cell_type": "markdown",
   "id": "50e3087f-d280-4a36-a154-0f81361d667e",
   "metadata": {},
   "source": [
    "### (2) Understanding Tensors in PyTorch\n",
    "\n",
    "Tensors are the fundamental data structure in PyTorch, similar to NumPy arrays but with **GPU acceleration capabilities**. They allow efficient mathematical operations on large datasets, making them essential for deep learning applications.\n",
    "\n",
    "A tensor can be thought of as a generalization of scalars, vectors, and matrices to higher dimensions:\n",
    "- **Scalar (0D tensor)**: A single numerical value (e.g., 5)\n",
    "- **Vector (1D tensor)**: A 1D array of numbers (e.g., [1, 2, 3])\n",
    "- **Matrix (2D tensor)**: A 2D grid of numbers\n",
    "- **Higher-Dimensional Tensor**: A multi-dimensional array"
   ]
  },
  {
   "cell_type": "markdown",
   "id": "8a55680c-91b0-46d3-a741-dbc1eb95135f",
   "metadata": {},
   "source": [
    "#### (2.1) Converting from NumPy to PyTorch Tensor"
   ]
  },
  {
   "cell_type": "markdown",
   "id": "76ab9be2-c8a3-4f35-a959-cf571e963e8f",
   "metadata": {},
   "source": [
    "PyTorch provides methods to create tensors from NumPy arrays."
   ]
  },
  {
   "cell_type": "code",
   "execution_count": 2,
   "id": "a0de6ecd-904e-4829-bb10-bd50c6cbc80a",
   "metadata": {},
   "outputs": [
    {
     "name": "stdout",
     "output_type": "stream",
     "text": [
      "tensor([0, 1, 2])\n",
      "tensor([0, 1, 2])\n"
     ]
    }
   ],
   "source": [
    "import torch \n",
    "import numpy as np\n",
    "\n",
    "# Create a NumPy array\n",
    "ndarray = np.array([0, 1, 2])\n",
    "\n",
    "# Convert NumPy array to a PyTorch tensor\n",
    "tensor1 = torch.from_numpy(ndarray)  \n",
    "tensor2 = torch.tensor(ndarray)  \n",
    "\n",
    "print(tensor1)  \n",
    "print(tensor2)"
   ]
  },
  {
   "cell_type": "markdown",
   "id": "ece21793-2239-4229-813d-91cb86f10236",
   "metadata": {},
   "source": [
    "How to return to NumPy type?"
   ]
  },
  {
   "cell_type": "code",
   "execution_count": 6,
   "id": "24ac5097-8437-4fb7-bd1d-f47340d31ea1",
   "metadata": {},
   "outputs": [
    {
     "name": "stdout",
     "output_type": "stream",
     "text": [
      "<class 'numpy.ndarray'>\n"
     ]
    }
   ],
   "source": [
    "tensor_numpy = tensor2.numpy()\n",
    "print(type(tensor_numpy))"
   ]
  },
  {
   "cell_type": "markdown",
   "id": "80c9d98f-7e61-46fa-a153-a0e696edec8d",
   "metadata": {},
   "source": [
    "**Note:** Both methods create tensors, but ```torch.from_numpy()``` shares memory with the original NumPy array, while ```torch.tensor()``` creates a new copy."
   ]
  },
  {
   "cell_type": "markdown",
   "id": "99608004-c3fe-4837-a711-d34076ae5a3a",
   "metadata": {},
   "source": [
    "#### (2.2) Creating Tensors from Python Lists\n",
    "\n",
    "You can directly create a tensor from a Python list:"
   ]
  },
  {
   "cell_type": "code",
   "execution_count": 6,
   "id": "f154e7e7-1b72-4e35-9ede-0294bfb01dc6",
   "metadata": {},
   "outputs": [
    {
     "name": "stdout",
     "output_type": "stream",
     "text": [
      "tensor([0, 1, 2])\n"
     ]
    }
   ],
   "source": [
    "tensor3 = torch.tensor([0, 1, 2])\n",
    "print(tensor3)"
   ]
  },
  {
   "cell_type": "markdown",
   "id": "bebdbd92-2e18-49fa-9760-828555f7a440",
   "metadata": {},
   "source": [
    "Tensors can also be multi-dimensional:"
   ]
  },
  {
   "cell_type": "code",
   "execution_count": 7,
   "id": "95ca1120-6a4e-4f75-b6a0-ee8e9e1a31c6",
   "metadata": {},
   "outputs": [
    {
     "name": "stdout",
     "output_type": "stream",
     "text": [
      "tensor([[0, 1, 2],\n",
      "        [3, 4, 5]])\n"
     ]
    }
   ],
   "source": [
    "tensor4 = torch.tensor([[0, 1, 2], [3, 4, 5]])\n",
    "print(tensor4)"
   ]
  },
  {
   "cell_type": "markdown",
   "id": "f6514f3a-4cfa-4cde-b22e-0e4bb1d624f2",
   "metadata": {},
   "source": [
    "#### (2.3) Creating Random Tensors\n",
    "\n",
    "PyTorch provides built-in functions to create tensors with specific properties:"
   ]
  },
  {
   "cell_type": "code",
   "execution_count": 8,
   "id": "ef6f039a-58e6-4ad9-b7ec-1b902c8a345a",
   "metadata": {},
   "outputs": [
    {
     "name": "stdout",
     "output_type": "stream",
     "text": [
      "tensor([[0.5869, 0.3458, 0.0021],\n",
      "        [0.2556, 0.6001, 0.5145],\n",
      "        [0.3606, 0.0298, 0.2418]])\n",
      "tensor([[0., 0., 0.],\n",
      "        [0., 0., 0.]])\n",
      "tensor([[1., 1., 1., 1.],\n",
      "        [1., 1., 1., 1.],\n",
      "        [1., 1., 1., 1.],\n",
      "        [1., 1., 1., 1.]])\n",
      "tensor([[1., 0., 0.],\n",
      "        [0., 1., 0.],\n",
      "        [0., 0., 1.]])\n"
     ]
    }
   ],
   "source": [
    "# Create a tensor with random values\n",
    "random_tensor = torch.rand(3, 3)  \n",
    "print(random_tensor)\n",
    "\n",
    "# Create a tensor filled with zeros\n",
    "zero_tensor = torch.zeros(2, 3)  \n",
    "print(zero_tensor)\n",
    "\n",
    "# Create a tensor filled with ones\n",
    "ones_tensor = torch.ones(4, 4)  \n",
    "print(ones_tensor)\n",
    "\n",
    "# Create an identity matrix (diagonal ones)\n",
    "identity_tensor = torch.eye(3)  \n",
    "print(identity_tensor)"
   ]
  },
  {
   "cell_type": "markdown",
   "id": "7e1d2868-fc0f-4987-ab1a-5df632e6beab",
   "metadata": {},
   "source": [
    "#### (2.4) Creating Tensors with Similar Properties\n",
    "\n",
    "PyTorch allows creating new tensors that inherit properties from existing tensors:"
   ]
  },
  {
   "cell_type": "code",
   "execution_count": 9,
   "id": "2c1ddf18-7ce5-4a85-8774-667970f91b33",
   "metadata": {},
   "outputs": [
    {
     "name": "stdout",
     "output_type": "stream",
     "text": [
      "tensor([[1., 1., 1.],\n",
      "        [1., 1., 1.],\n",
      "        [1., 1., 1.]])\n"
     ]
    }
   ],
   "source": [
    "# Create a tensor based on an existing one\n",
    "new_tensor = torch.ones_like(random_tensor)  \n",
    "print(new_tensor)"
   ]
  },
  {
   "cell_type": "markdown",
   "id": "a33bf01f-bc08-470c-aefe-39d51c43073b",
   "metadata": {},
   "source": [
    "#### (2.5) Tensor Attributes\n",
    "\n",
    "Every PyTorch tensor has three key attributes:\n",
    "- **Shape:** The dimensions of the tensor\n",
    "- **Data type:** The type of elements in the tensor (e.g., torch.float32, torch.int64)\n",
    "- **Device:** The storage location (CPU or GPU)"
   ]
  },
  {
   "cell_type": "code",
   "execution_count": 10,
   "id": "79acd9cc-3587-46a3-a564-d1ad35a72fd0",
   "metadata": {},
   "outputs": [
    {
     "name": "stdout",
     "output_type": "stream",
     "text": [
      "Shape: torch.Size([3, 3])\n",
      "Data Type: torch.float32\n",
      "Device: cpu\n"
     ]
    }
   ],
   "source": [
    "print('Shape:', new_tensor.shape)  \n",
    "print('Data Type:', new_tensor.dtype)  \n",
    "print('Device:', new_tensor.device)  "
   ]
  },
  {
   "cell_type": "code",
   "execution_count": 15,
   "id": "e3abd0c8-51ae-4b21-881e-7efbffea7ca2",
   "metadata": {},
   "outputs": [
    {
     "name": "stdout",
     "output_type": "stream",
     "text": [
      "Shape: torch.Size([3, 4])\n",
      "Data Type: torch.float32\n",
      "Device: mps:0\n"
     ]
    }
   ],
   "source": [
    "shape = (3,4)\n",
    "dtype = torch.float32\n",
    "device = 'mps' # 'cpu' or 'cuda'\n",
    "# Create a random tensor with desired attributes\n",
    "new_tensor = torch.rand(size=shape, dtype=dtype).to(device)\n",
    "print('Shape:', new_tensor.shape)  \n",
    "print('Data Type:', new_tensor.dtype)  \n",
    "print('Device:', new_tensor.device)  "
   ]
  },
  {
   "cell_type": "markdown",
   "id": "74da2fec-f37d-44ac-9b4b-ab3ff5730797",
   "metadata": {},
   "source": [
    "### (3) Tensor Operations\n",
    "\n",
    "PyTorch provides a rich set of operations that can be performed on tensors, similar to NumPy.\n",
    "\n",
    "#### (3.1) Slicing a Tensor\n",
    "\n",
    "Slicing allows us to extract specific elements from a tensor. It follows Python’s indexing rules."
   ]
  },
  {
   "cell_type": "code",
   "execution_count": 3,
   "id": "8d63e079-da49-4ec9-a258-cfd2b2d89f68",
   "metadata": {},
   "outputs": [
    {
     "name": "stdout",
     "output_type": "stream",
     "text": [
      "Original Tensor:\n",
      " tensor([[1, 2, 3],\n",
      "        [4, 5, 6],\n",
      "        [7, 8, 9]])\n",
      "Element at (1,2): tensor(6)\n",
      "First row: tensor([1, 2, 3])\n",
      "Second column: tensor([2, 5, 8])\n",
      "Submatrix:\n",
      " tensor([[2, 3],\n",
      "        [5, 6]])\n"
     ]
    }
   ],
   "source": [
    "# Create a tensor\n",
    "tensor = torch.tensor([[1, 2, 3], [4, 5, 6], [7, 8, 9]])\n",
    "print(\"Original Tensor:\\n\", tensor)\n",
    "\n",
    "# Extract a single element (0-based index)\n",
    "print(\"Element at (1,2):\", tensor[1, 2])  # Output: 6\n",
    "\n",
    "# Extract a row\n",
    "print(\"First row:\", tensor[0])  # Output: tensor([1, 2, 3])\n",
    "\n",
    "# Extract a column\n",
    "print(\"Second column:\", tensor[:, 1])  # Output: tensor([2, 5, 8])\n",
    "\n",
    "# Slice a submatrix\n",
    "print(\"Submatrix:\\n\", tensor[0:2, 1:3])  # Output: tensor([[2, 3], [5, 6]])"
   ]
  },
  {
   "cell_type": "markdown",
   "id": "1c303078-93c8-47a7-9782-e2fc1c5c8993",
   "metadata": {},
   "source": [
    "#### (3.2) Reshaping a Tensor\n",
    "\n",
    "Reshaping changes the dimensions of a tensor without altering its data."
   ]
  },
  {
   "cell_type": "code",
   "execution_count": 15,
   "id": "c8a995e8-0286-46f8-8747-26585d342678",
   "metadata": {},
   "outputs": [
    {
     "name": "stdout",
     "output_type": "stream",
     "text": [
      "Original Tensor: tensor([ 0,  1,  2,  3,  4,  5,  6,  7,  8,  9, 10, 11])\n",
      "Reshaped Tensor:\n",
      " tensor([[ 0,  1,  2,  3],\n",
      "        [ 4,  5,  6,  7],\n",
      "        [ 8,  9, 10, 11]])\n",
      "Reshaped Tensor:\n",
      " tensor([[ 0,  1,  2,  3,  4,  5],\n",
      "        [ 6,  7,  8,  9, 10, 11]])\n",
      "Reshaped Tensor:\n",
      " tensor([[ 0,  1,  2],\n",
      "        [ 3,  4,  5],\n",
      "        [ 6,  7,  8],\n",
      "        [ 9, 10, 11]])\n"
     ]
    }
   ],
   "source": [
    "tensor = torch.arange(12)  # Create a 1D tensor with values from 0 to 11\n",
    "print(\"Original Tensor:\", tensor)\n",
    "\n",
    "# Reshape to a 3x4 matrix\n",
    "reshaped_tensor = tensor.view(3, 4)\n",
    "print(\"Reshaped Tensor:\\n\", reshaped_tensor)\n",
    "\n",
    "# Reshape to a 2x6 matrix\n",
    "reshaped_tensor = tensor.reshape(2, 6)\n",
    "print(\"Reshaped Tensor:\\n\", reshaped_tensor)\n",
    "\n",
    "# Reshape to a 4x3 matrix\n",
    "reshaped_tensor = tensor.reshape(-1, 3)\n",
    "print(\"Reshaped Tensor:\\n\", reshaped_tensor)"
   ]
  },
  {
   "cell_type": "markdown",
   "id": "b20c1d6d-fa20-4349-9d9d-3f0b5476f5cc",
   "metadata": {},
   "source": [
    "#### (3.3) Transposing a Tensor\n",
    "\n",
    "Transposing swaps dimensions of a tensor."
   ]
  },
  {
   "cell_type": "code",
   "execution_count": 5,
   "id": "0e78be1c-d55b-4e82-bb10-63c00842c231",
   "metadata": {},
   "outputs": [
    {
     "name": "stdout",
     "output_type": "stream",
     "text": [
      "Transposed Tensor:\n",
      " tensor([[1, 4],\n",
      "        [2, 5],\n",
      "        [3, 6]])\n"
     ]
    }
   ],
   "source": [
    "tensor = torch.tensor([[1, 2, 3], [4, 5, 6]])\n",
    "transposed = tensor.T  # Equivalent to tensor.transpose(0, 1)\n",
    "print(\"Transposed Tensor:\\n\", transposed)"
   ]
  },
  {
   "cell_type": "markdown",
   "id": "bd848b61-7df8-4f94-8566-31a865b9cec3",
   "metadata": {},
   "source": [
    "#### (3.4) Element-wise Operations\n",
    "\n",
    "Operations can be applied element-wise on tensors."
   ]
  },
  {
   "cell_type": "code",
   "execution_count": 6,
   "id": "88475055-fd3f-4481-ae0f-88637f26e1b7",
   "metadata": {},
   "outputs": [
    {
     "name": "stdout",
     "output_type": "stream",
     "text": [
      "Addition: tensor([5, 7, 9])\n",
      "Multiplication: tensor([ 4, 10, 18])\n",
      "Squared: tensor([1, 4, 9])\n"
     ]
    }
   ],
   "source": [
    "tensor1 = torch.tensor([1, 2, 3])\n",
    "tensor2 = torch.tensor([4, 5, 6])\n",
    "\n",
    "# Addition\n",
    "print(\"Addition:\", tensor1 + tensor2)\n",
    "\n",
    "# Multiplication\n",
    "print(\"Multiplication:\", tensor1 * tensor2)\n",
    "\n",
    "# Power\n",
    "print(\"Squared:\", tensor1 ** 2)"
   ]
  },
  {
   "cell_type": "markdown",
   "id": "97e650dc-e347-449f-8522-aee9eb15e29e",
   "metadata": {},
   "source": [
    "#### (3.5) Matrix Multiplication"
   ]
  },
  {
   "cell_type": "code",
   "execution_count": 7,
   "id": "8163dba1-3635-47cb-90eb-53647f8a4df3",
   "metadata": {},
   "outputs": [
    {
     "name": "stdout",
     "output_type": "stream",
     "text": [
      "Matrix Multiplication:\n",
      " tensor([[19, 22],\n",
      "        [43, 50]])\n"
     ]
    }
   ],
   "source": [
    "A = torch.tensor([[1, 2], [3, 4]])\n",
    "B = torch.tensor([[5, 6], [7, 8]])\n",
    "\n",
    "# Matrix multiplication\n",
    "C = torch.matmul(A, B)  # Equivalent to A @ B\n",
    "print(\"Matrix Multiplication:\\n\", C)"
   ]
  },
  {
   "cell_type": "markdown",
   "id": "2cb30ff6-9a71-4cbb-8439-cc5e634219dd",
   "metadata": {},
   "source": [
    "#### (3.6) Moving Tensors to GPU\n",
    "\n",
    "To leverage GPU acceleration, PyTorch allows you to move tensors between CPU and GPU."
   ]
  },
  {
   "cell_type": "code",
   "execution_count": 13,
   "id": "7cd70fd8-23cc-41e8-8690-3b3d89036a93",
   "metadata": {},
   "outputs": [
    {
     "name": "stdout",
     "output_type": "stream",
     "text": [
      "The original device: cpu\n",
      "The current device: mps:0\n"
     ]
    }
   ],
   "source": [
    "# Check if CUDA is available\n",
    "device = torch.device(\"cuda\" if torch.cuda.is_available() else \"mps\")\n",
    "\n",
    "# Move tensor to GPU\n",
    "tensor = torch.rand((2,3))\n",
    "print('The original device:', tensor.device)\n",
    "gpu_tensor = tensor.to(device)\n",
    "print('The current device:', gpu_tensor.device)"
   ]
  },
  {
   "cell_type": "markdown",
   "id": "262445cb-bb56-4bce-b0db-8789247fbe6a",
   "metadata": {},
   "source": [
    "### (5) Automatic Differentiation with Autograd\n",
    "\n",
    "PyTorch’s ```autograd``` module automates the computation of gradients, making it easier to implement backpropagation in neural networks."
   ]
  },
  {
   "cell_type": "markdown",
   "id": "4d9615b6-d31d-461a-8b19-992809d5f19b",
   "metadata": {},
   "source": [
    "#### (5.1) Enabling Autograd with ```requires_grad```"
   ]
  },
  {
   "cell_type": "code",
   "execution_count": 7,
   "id": "92e93dfa-2d3a-44f8-a20e-5f73269260c4",
   "metadata": {},
   "outputs": [
    {
     "name": "stdout",
     "output_type": "stream",
     "text": [
      "y: tensor(15., grad_fn=<AddBackward0>)\n"
     ]
    }
   ],
   "source": [
    "x = torch.tensor(2.0, requires_grad=True)\n",
    "y = x ** 2 + 3 * x + 5\n",
    "print(\"y:\", y)"
   ]
  },
  {
   "cell_type": "markdown",
   "id": "a3caf748-00c0-4295-944d-49a824726124",
   "metadata": {},
   "source": [
    "#### (5.2) Computing Gradients using ```backward()```"
   ]
  },
  {
   "cell_type": "code",
   "execution_count": 8,
   "id": "9beaed98-fa10-43aa-bb91-37406ce287a4",
   "metadata": {},
   "outputs": [
    {
     "name": "stdout",
     "output_type": "stream",
     "text": [
      "Gradient of y with respect to x: tensor(7.)\n"
     ]
    }
   ],
   "source": [
    "y.backward()  # Compute dy/dx\n",
    "print(\"Gradient of y with respect to x:\", x.grad)"
   ]
  },
  {
   "cell_type": "markdown",
   "id": "a53150d9-e37a-482c-af42-70403fe63ca5",
   "metadata": {},
   "source": [
    "#### (5.3) Stopping Gradient Tracking\n",
    "\n",
    "Sometimes, we may want to stop PyTorch from tracking gradients:"
   ]
  },
  {
   "cell_type": "code",
   "execution_count": 10,
   "id": "e8727d39-5791-47d7-af26-7a00b4d1f756",
   "metadata": {},
   "outputs": [],
   "source": [
    "with torch.no_grad():\n",
    "    y = x * 2 + 5  # No gradient will be computed\n",
    "# y.backward()"
   ]
  },
  {
   "cell_type": "markdown",
   "id": "f1178728-1746-472f-9355-efb6f82d7cf1",
   "metadata": {},
   "source": [
    "Alternatively, disable tracking manually:"
   ]
  },
  {
   "cell_type": "code",
   "execution_count": 11,
   "id": "e822bb6a-afe8-4595-9765-4204e824800a",
   "metadata": {},
   "outputs": [
    {
     "data": {
      "text/plain": [
       "tensor(2.)"
      ]
     },
     "execution_count": 11,
     "metadata": {},
     "output_type": "execute_result"
    }
   ],
   "source": [
    "x.requires_grad_(False)"
   ]
  },
  {
   "cell_type": "markdown",
   "id": "af110f7e-4c36-4b07-ac0a-baa1ca7af8b5",
   "metadata": {},
   "source": [
    "## Exercise"
   ]
  },
  {
   "cell_type": "markdown",
   "id": "eda584fa-6478-4f85-ab43-aac94421d9d1",
   "metadata": {},
   "source": [
    "- 1. Create a 3×3 tensor filled with random numbers and print its shape, data type, and device.\n",
    "- 2. Convert the NumPy array ```np.array([1, 2, 3, 4, 5, 6])``` into a PyTorch tensor:\n",
    "     - Reshape it into a (3,2) tensor and denote it as ```tensorA```\n",
    "     - Reshape it into a (2,3) tensor and denote it as ```tensorB```\n",
    "     - Compute the transpose of ```tensorB``` and compare it with ```tensorA```.\n",
    "     - Perform matrix multiplication on ```tensorB``` and ```tensorA```.\n",
    "- 3.\tCreate a 4×4 tensor and\n",
    "     - Extract the first row\n",
    "     - Extract the last column\n",
    "     - Modify the first row of the tensor by setting all its values to 10.\n",
    "     - Check if a GPU is available and move a tensor to the GPU (if available), then back to the CPU.\n",
    "- 4.\tCreate a tensor ```x = torch.tensor(2.0, requires_grad=True)```. Define a function $y = x^3 + 3x^2 + 5$ and compute its derivative using ```backward()```.\n",
    "     - Print the gradient (```x.grad```).\n",
    "     - Disable gradient tracking using ```torch.no_grad()```, then verify that ```requires_grad``` is False in the new tensor."
   ]
  }
 ],
 "metadata": {
  "kernelspec": {
   "display_name": "Python 3 (ipykernel)",
   "language": "python",
   "name": "python3"
  },
  "language_info": {
   "codemirror_mode": {
    "name": "ipython",
    "version": 3
   },
   "file_extension": ".py",
   "mimetype": "text/x-python",
   "name": "python",
   "nbconvert_exporter": "python",
   "pygments_lexer": "ipython3",
   "version": "3.10.13"
  }
 },
 "nbformat": 4,
 "nbformat_minor": 5
}
